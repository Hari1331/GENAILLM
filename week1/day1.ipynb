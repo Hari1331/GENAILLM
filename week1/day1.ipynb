{
 "cells": [
  {
   "cell_type": "markdown",
   "id": "d15d8294-3328-4e07-ad16-8a03e9bbfdb9",
   "metadata": {},
   "source": [
    "# Instant Gratification!\n",
    "\n",
    "Let's build a useful LLM solution - in a matter of minutes.\n",
    "\n",
    "Our goal is to code a new kind of Web Browser. Give it a URL, and it will respond with a summary. The Reader's Digest of the internet!!\n",
    "\n",
    "Before starting, be sure to have followed the instructions in the \"README\" file, including creating your API key with OpenAI and adding it to the `.env` file.\n",
    "\n",
    "## If you're new to Jupyer Lab\n",
    "\n",
    "Welcome to the wonderful world of Data Science experimentation! Once you've used Jupyter Lab, you'll wonder how you ever lived without it. Simply click in each \"cell\" with code in it, like the cell immediately below this text, and hit Shift+Return to execute that cell. As you wish, you can add a cell with the + button in the toolbar, and print values of variables, or try out variations.\n",
    "\n",
    "If you need to start again, go to Kernel menu >> Restart kernel."
   ]
  },
  {
   "cell_type": "code",
   "execution_count": 6,
   "id": "4e2a9393-7767-488e-a8bf-27c12dca35bd",
   "metadata": {},
   "outputs": [],
   "source": [
    "# imports\n",
    "\n",
    "import os\n",
    "import requests\n",
    "from dotenv import load_dotenv\n",
    "from bs4 import BeautifulSoup\n",
    "from IPython.display import Markdown, display\n",
    "from openai import OpenAI"
   ]
  },
  {
   "cell_type": "code",
   "execution_count": 7,
   "id": "7b87cadb-d513-4303-baee-a37b6f938e4d",
   "metadata": {},
   "outputs": [],
   "source": [
    "# Load environment variables in a file called .env\n",
    "\n",
    "load_dotenv()\n",
    "os.environ['OPENAI_API_KEY'] = os.getenv('OPENAI_API_KEY')#, 'your-key-if-not-using-env')\n",
    "openai = OpenAI()"
   ]
  },
  {
   "cell_type": "code",
   "execution_count": 8,
   "id": "c5e793b2-6775-426a-a139-4848291d0463",
   "metadata": {},
   "outputs": [],
   "source": [
    "# A class to represent a Webpage\n",
    "\n",
    "class Website:\n",
    "    url: str\n",
    "    title: str\n",
    "    text: str\n",
    "\n",
    "    def __init__(self, url):\n",
    "        self.url = url\n",
    "        response = requests.get(url)\n",
    "        soup = BeautifulSoup(response.content, 'html.parser')\n",
    "        self.title = soup.title.string if soup.title else \"No title found\"\n",
    "        for irrelevant in soup.body([\"script\", \"style\", \"img\", \"input\"]):\n",
    "            irrelevant.decompose()\n",
    "        self.text = soup.body.get_text(separator=\"\\n\", strip=True)"
   ]
  },
  {
   "cell_type": "code",
   "execution_count": 10,
   "id": "2ef960cf-6dc2-4cda-afb3-b38be12f4c97",
   "metadata": {},
   "outputs": [
    {
     "name": "stdout",
     "output_type": "stream",
     "text": [
      "Home | Novabase\n",
      "Novabase's site uses Cookies to improve your navigation experience and statistics. By visiting us you are allowing their use.\n",
      "Learn more\n",
      "Ok, understood\n",
      "Investors\n",
      "ESG\n",
      "Celfocus\n",
      "Novabase Capital\n",
      "en\n",
      "pt\n",
      "Search\n",
      "Financial services\n",
      "Celfocus\n",
      "Investors\n",
      "ESG\n",
      "Celfocus\n",
      "Novabase Capital\n",
      "en\n",
      "pt\n",
      "en\n",
      "pt\n",
      "1H24 Results\n",
      "See here\n",
      "Discover\n",
      "Capital\n",
      "Discover\n",
      "Novabase investors\n",
      "Discover\n",
      "Annual report 2023\n",
      "Non official version\n",
      "View report\n",
      "Safehub, supported by the European Commission\n",
      "Discover\n",
      "Let's talk today\n",
      "Find out how we can help your business\n",
      "info@novabase.com\n",
      "Contact\n",
      "Contacts\n",
      "Novabase | Head Office\n",
      "\tAv. D. João II, nº34,\n",
      "Parque das Nações\n",
      "1998-031 Lisboa\n",
      "+351 213 836 300\n",
      "Contact us\n",
      "Novabase\n",
      "Board of Directors\n",
      "Code of conduct\n",
      "Certifications\n",
      "ESG\n",
      "Communication of Irregularities\n",
      "Investors\n",
      "Financial Calendar\n",
      "Financial Information\n",
      "CMVM Press Releases\n",
      "Corporate Governance\n",
      "Novabase Share\n",
      "Analysts\n",
      "Investor Relations Office\n",
      "FAQ\n",
      "Our companies\n",
      "Celfocus\n",
      "Novabase Capital\n",
      "Candidates\n",
      "Applications\n",
      "media\n",
      "About Novabase\n",
      "Media Relations Office\n",
      "News\n",
      "Follow us\n",
      "Instagram\n",
      "Facebook\n",
      "LinkedIn\n",
      "Youtube\n",
      "© Copyright 2024 NOVABASE SGPS, S.A \n",
      "                                All rights reserved.\n"
     ]
    }
   ],
   "source": [
    "# Let's try one out\n",
    "\n",
    "#ed = Website(\"https://edwarddonner.com\")\n",
    "nb = Website(\"https://www.novabase.com/en/\")\n",
    "print(nb.title)\n",
    "print(nb.text)"
   ]
  },
  {
   "cell_type": "markdown",
   "id": "6a478a0c-2c53-48ff-869c-4d08199931e1",
   "metadata": {},
   "source": [
    "## Types of prompts\n",
    "\n",
    "You may know this already - but if not, you will get very familiar with it!\n",
    "\n",
    "Models like GPT4o have been trained to receive instructions in a particular way.\n",
    "\n",
    "They expect to receive:\n",
    "\n",
    "**A system prompt** that tells them what task they are performing and what tone they should use\n",
    "\n",
    "**A user prompt** -- the conversation starter that they should reply to"
   ]
  },
  {
   "cell_type": "code",
   "execution_count": 11,
   "id": "abdb8417-c5dc-44bc-9bee-2e059d162699",
   "metadata": {},
   "outputs": [],
   "source": [
    "system_prompt = \"You are an assistant that analyzes the contents of a website \\\n",
    "and provides a short summary, ignoring text that might be navigation related. \\\n",
    "Respond in markdown.\""
   ]
  },
  {
   "cell_type": "code",
   "execution_count": 12,
   "id": "f0275b1b-7cfe-4f9d-abfa-7650d378da0c",
   "metadata": {},
   "outputs": [],
   "source": [
    "def user_prompt_for(website):\n",
    "    user_prompt = f\"You are looking at a website titled {website.title}\"\n",
    "    user_prompt += \"The contents of this website is as follows; \\\n",
    "please provide a short summary of this website in markdown. \\\n",
    "If it includes news or announcements, then summarize these too.\\n\\n\"\n",
    "    user_prompt += website.text\n",
    "    return user_prompt"
   ]
  },
  {
   "cell_type": "markdown",
   "id": "ea211b5f-28e1-4a86-8e52-c0b7677cadcc",
   "metadata": {},
   "source": [
    "## Messages\n",
    "\n",
    "The API from OpenAI expects to receive messages in a particular structure.\n",
    "Many of the other APIs share this structure:\n",
    "\n",
    "```\n",
    "[\n",
    "    {\"role\": \"system\", \"content\": \"system message goes here\"},\n",
    "    {\"role\": \"user\", \"content\": \"user message goes here\"}\n",
    "]"
   ]
  },
  {
   "cell_type": "code",
   "execution_count": 13,
   "id": "0134dfa4-8299-48b5-b444-f2a8c3403c88",
   "metadata": {},
   "outputs": [],
   "source": [
    "def messages_for(website):\n",
    "    return [\n",
    "        {\"role\": \"system\", \"content\": system_prompt},\n",
    "        {\"role\": \"user\", \"content\": user_prompt_for(website)}\n",
    "    ]"
   ]
  },
  {
   "cell_type": "markdown",
   "id": "16f49d46-bf55-4c3e-928f-68fc0bf715b0",
   "metadata": {},
   "source": [
    "## Time to bring it together - the API for OpenAI is very simple!"
   ]
  },
  {
   "cell_type": "code",
   "execution_count": 15,
   "id": "905b9919-aba7-45b5-ae65-81b3d1d78e34",
   "metadata": {},
   "outputs": [],
   "source": [
    "def summarize(url):\n",
    "    website = Website(url)\n",
    "    response = openai.chat.completions.create(\n",
    "        model = \"gpt-4o-mini\",\n",
    "        messages = messages_for(website)\n",
    "    )\n",
    "    return response.choices[0].message.content"
   ]
  },
  {
   "cell_type": "code",
   "execution_count": 17,
   "id": "05e38d41-dfa4-4b20-9c96-c46ea75d9fb5",
   "metadata": {},
   "outputs": [
    {
     "data": {
      "text/plain": [
       "'# Summary of Novabase Website\\n\\nNovabase is a company focused on delivering financial services and solutions. The website features various sections aimed at investors, including recent financial results and annual reports. One key highlight is the announcement of the **1H24 Results**, which suggests recent performance metrics may be available for review. Additionally, there’s mention of **Safehub**, a project supported by the European Commission, indicating Novabase’s involvement in significant initiatives.\\n\\nThe site also emphasizes their commitment to **ESG (Environmental, Social, and Governance)** practices and provides a contact point for businesses seeking assistance. \\n\\nThe company maintains a transparent approach with resources for investors, including press releases and information on corporate governance.'"
      ]
     },
     "execution_count": 17,
     "metadata": {},
     "output_type": "execute_result"
    }
   ],
   "source": [
    "#summarize(\"https://edwarddonner.com\")\n",
    "summarize(\"https://www.novabase.com/en/\")"
   ]
  },
  {
   "cell_type": "code",
   "execution_count": 18,
   "id": "3d926d59-450e-4609-92ba-2d6f244f1342",
   "metadata": {},
   "outputs": [],
   "source": [
    "def display_summary(url):\n",
    "    summary = summarize(url)\n",
    "    display(Markdown(summary))"
   ]
  },
  {
   "cell_type": "code",
   "execution_count": 19,
   "id": "3018853a-445f-41ff-9560-d925d1774b2f",
   "metadata": {},
   "outputs": [
    {
     "data": {
      "text/markdown": [
       "# Summary of Edward Donner's Website\n",
       "\n",
       "Edward Donner's website serves as a personal platform where he shares his interests and work in the field of AI, particularly with Large Language Models (LLMs). He introduces himself as a coder and LLM experimenter, also revealing a background in DJing and amateur music production. As the co-founder and CTO of Nebula.io, a company focused on using AI for talent discovery, he emphasizes the positive impact of technology in this area.\n",
       "\n",
       "### Recent Posts\n",
       "1. **August 6, 2024**: *Outsmart LLM Arena* - An introduction to an innovative platform that pits LLMs against each other in scenarios requiring diplomacy and strategic thinking.\n",
       "2. **June 26, 2024**: *Choosing the Right LLM: Toolkit and Resources* - A resourceful guide for selecting the appropriate LLM for projects.\n",
       "3. **February 7, 2024**: *Fine-tuning an LLM on your texts: a simulation of you* - A detailed discussion on personalizing LLMs using individual text data.\n",
       "4. **January 31, 2024**: *Fine-tuning an LLM on your texts: part 4 – QLoRA* - The fourth installment in a series on techniques for fine-tuning LLMs.\n",
       "\n",
       "The site reflects Donner's enthusiasm for AI and its applications, while also providing educational content for enthusiasts in the field."
      ],
      "text/plain": [
       "<IPython.core.display.Markdown object>"
      ]
     },
     "metadata": {},
     "output_type": "display_data"
    }
   ],
   "source": [
    "display_summary(\"https://edwarddonner.com\")"
   ]
  },
  {
   "cell_type": "code",
   "execution_count": 20,
   "id": "45d83403-a24c-44b5-84ac-961449b4008f",
   "metadata": {},
   "outputs": [
    {
     "data": {
      "text/markdown": [
       "# Summary of CNN Website\n",
       "\n",
       "CNN provides comprehensive coverage of breaking news and features across multiple topics, including US and world news, politics, business, health, entertainment, sports, science, and weather.\n",
       "\n",
       "## Key Highlights:\n",
       "\n",
       "- **Conflict Coverage**: \n",
       "  - Tensions related to the Israel-Hamas War and the Ukraine-Russia War are prominently featured.\n",
       "  - Recent developments include Israeli retaliation plans following a missile attack from Iran, with live updates on the situation.\n",
       "\n",
       "- **Natural Disasters**: \n",
       "  - Coverage of Hurricane Helene, which has caused significant destruction and led to a rising death toll.\n",
       "\n",
       "- **Political News**: \n",
       "  - Noteworthy political events include Melania Trump entering discussions on abortion rights and candidates campaigning across various states, including collaborations between political figures like Liz Cheney and Kamala Harris.\n",
       "\n",
       "- **Global Affairs**: \n",
       "  - Articles on international issues such as North Korea's provocative actions and the ongoing economic implications of labor strikes related to port operations.\n",
       "\n",
       "- **Science and Technology**: \n",
       "  - Features on recent scientific discoveries and innovations in technology, including advancements in AI and space exploration.\n",
       "\n",
       "- **Health Updates**: \n",
       "  - Discussions surrounding public health legislation, particularly in the context of opioid overdoses and allergens.\n",
       "\n",
       "CNN also emphasizes audience engagement, encouraging visitors to provide feedback on their ads and website experience."
      ],
      "text/plain": [
       "<IPython.core.display.Markdown object>"
      ]
     },
     "metadata": {},
     "output_type": "display_data"
    }
   ],
   "source": [
    "display_summary(\"https://cnn.com\")"
   ]
  },
  {
   "cell_type": "code",
   "execution_count": 21,
   "id": "75e9fd40-b354-4341-991e-863ef2e59db7",
   "metadata": {},
   "outputs": [
    {
     "data": {
      "text/markdown": [
       "# Summary of Anthropic Website\n",
       "\n",
       "Anthropic is an AI safety and research company based in San Francisco, focused on creating reliable and beneficial AI systems. The company emphasizes AI safety in its research and product development.\n",
       "\n",
       "## Key Offerings\n",
       "- **Claude**: Anthropic's AI model, with its latest version, Claude 3.5 Sonnet, introduced as their most intelligent model available.\n",
       "- **API**: Services allowing businesses to integrate Claude into their operations for enhanced efficiency and revenue generation.\n",
       "\n",
       "## Recent Announcements \n",
       "- **Claude 3.5 Sonnet Release**: Announced on June 21, 2024, highlighting advancements in their AI capabilities.\n",
       "- **Research Publications**:\n",
       "  - *Constitutional AI: Harmlessness from AI Feedback* (Dec 15, 2022)\n",
       "  - *Core Views on AI Safety: When, Why, What, and How* (Mar 8, 2023)\n",
       "\n",
       "The team consists of experts in machine learning, physics, policy, and product development, aspiring to drive advancements in AI safety."
      ],
      "text/plain": [
       "<IPython.core.display.Markdown object>"
      ]
     },
     "metadata": {},
     "output_type": "display_data"
    }
   ],
   "source": [
    "display_summary(\"https://anthropic.com\")"
   ]
  },
  {
   "cell_type": "markdown",
   "id": "36ed9f14-b349-40e9-a42c-b367e77f8bda",
   "metadata": {},
   "source": [
    "## An extra exercise for those who enjoy web scraping\n",
    "\n",
    "You may notice that if you try `display_summary(\"https://openai.com\")` - it doesn't work! That's because OpenAI has a fancy website that uses Javascript. There are many ways around this that some of you might be familiar with. For example, Selenium is a hugely popular framework that runs a browser behind the scenes, renders the page, and allows you to query it. If you have experience with Selenium, Playwright or similar, then feel free to improve the Website class to use them. Please push your code afterwards so I can share it with other students!"
   ]
  },
  {
   "cell_type": "code",
   "execution_count": 22,
   "id": "26e37c77",
   "metadata": {},
   "outputs": [
    {
     "data": {
      "text/markdown": [
       "# Novabase Website Summary\n",
       "\n",
       "Novabase is a company that provides services and solutions in the financial sector. The website offers information on various aspects of the company, including:\n",
       "\n",
       "- **Investor Relations**: Access to financial information, annual reports, and press releases.\n",
       "- **ESG (Environmental, Social, and Governance)**: Commitment and information regarding corporate responsibility and sustainability.\n",
       "- **Celfocus and Novabase Capital**: Insights into their subsidiaries and services offered under these brands.\n",
       "\n",
       "## News and Announcements\n",
       "- **1H24 Results**: A dedicated section to view financial results for the first half of 2024.\n",
       "- **Annual Report 2023**: An available non-official version of the company's annual report.\n",
       "- **Safehub**: Mention of being supported by the European Commission, indicating involvement in a particular initiative.\n",
       "\n",
       "The website reflects a commitment to transparency with sections for investors and communication regarding corporate governance. Contact information and accessibility options are also provided for potential clients and partners."
      ],
      "text/plain": [
       "<IPython.core.display.Markdown object>"
      ]
     },
     "metadata": {},
     "output_type": "display_data"
    }
   ],
   "source": [
    "display_summary(\"https://www.novabase.com/en/\")"
   ]
  },
  {
   "cell_type": "code",
   "execution_count": 23,
   "id": "95c31c1f",
   "metadata": {},
   "outputs": [
    {
     "data": {
      "text/markdown": [
       "# Summary\n",
       "\n",
       "The website currently displays a message informing visitors to enable JavaScript and cookies in their web browsers in order to access the site's content. No specific information or announcements are available on the page at this time."
      ],
      "text/plain": [
       "<IPython.core.display.Markdown object>"
      ]
     },
     "metadata": {},
     "output_type": "display_data"
    }
   ],
   "source": [
    "display_summary(\"https://openai.com\")"
   ]
  }
 ],
 "metadata": {
  "kernelspec": {
   "display_name": "Python 3 (ipykernel)",
   "language": "python",
   "name": "python3"
  },
  "language_info": {
   "codemirror_mode": {
    "name": "ipython",
    "version": 3
   },
   "file_extension": ".py",
   "mimetype": "text/x-python",
   "name": "python",
   "nbconvert_exporter": "python",
   "pygments_lexer": "ipython3",
   "version": "3.11.10"
  }
 },
 "nbformat": 4,
 "nbformat_minor": 5
}
